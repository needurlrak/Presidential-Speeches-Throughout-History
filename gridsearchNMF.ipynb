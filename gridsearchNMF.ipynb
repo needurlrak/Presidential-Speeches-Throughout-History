{
 "cells": [
  {
   "cell_type": "markdown",
   "metadata": {},
   "source": [
    "# Imports"
   ]
  },
  {
   "cell_type": "markdown",
   "metadata": {},
   "source": [
    "Please note that this page is still being cleaned. I apologize for some of the messiness"
   ]
  },
  {
   "cell_type": "code",
   "execution_count": 1,
   "metadata": {
    "collapsed": false
   },
   "outputs": [
    {
     "name": "stdout",
     "output_type": "stream",
     "text": [
      "python Version: 3.5.2 |Anaconda 4.2.0 (64-bit)| (default, Jul  2 2016, 17:53:06) \n",
      "[GCC 4.4.7 20120313 (Red Hat 4.4.7-1)]\n"
     ]
    }
   ],
   "source": [
    "import sys\n",
    "import pprint\n",
    "import json\n",
    "import numpy as np\n",
    "import pandas as pd\n",
    "from dateutil.parser import parse\n",
    "from pymongo import MongoClient\n",
    "from gensim import corpora, models, similarities, matutils\n",
    "# sklearn\n",
    "from sklearn import datasets\n",
    "from sklearn.feature_extraction.text import CountVectorizer, TfidfVectorizer\n",
    "from sklearn.cluster import KMeans\n",
    "import pickle\n",
    "from datetime import datetime\n",
    "import matplotlib.pyplot as plt\n",
    "from sklearn.decomposition import NMF\n",
    "from gensim.summarization.summarizer import summarize\n",
    "from numpy.linalg import norm\n",
    "#from scipy.sparse.csc_matrix import transpose\n",
    "\n",
    "#import seaborn as sns\n",
    "%matplotlib inline\n",
    "\n",
    "\n",
    "print(\"python Version:\", sys.version)"
   ]
  },
  {
   "cell_type": "code",
   "execution_count": 2,
   "metadata": {
    "collapsed": false
   },
   "outputs": [
    {
     "name": "stdout",
     "output_type": "stream",
     "text": [
      "Python 3.5.2 :: Anaconda 4.2.0 (64-bit)\r\n"
     ]
    }
   ],
   "source": [
    "!python --version"
   ]
  },
  {
   "cell_type": "markdown",
   "metadata": {},
   "source": [
    "# Db Config"
   ]
  },
  {
   "cell_type": "code",
   "execution_count": 3,
   "metadata": {
    "collapsed": false
   },
   "outputs": [],
   "source": [
    "client = MongoClient()\n",
    "db = client.presidents\n",
    "paragraphs = db.submissions\n",
    "full_speeches = db.fullspeeches"
   ]
  },
  {
   "cell_type": "code",
   "execution_count": 4,
   "metadata": {
    "collapsed": false
   },
   "outputs": [],
   "source": [
    "# speeches.delete_many({})"
   ]
  },
  {
   "cell_type": "code",
   "execution_count": 5,
   "metadata": {
    "collapsed": false
   },
   "outputs": [],
   "source": [
    "# with open('/home/karlrudeen/presidentialspeeches9.json', encoding='utf-8') as data_file:    \n",
    "#     data = json.load(data_file)\n",
    "#     speeches.insert_many(data)"
   ]
  },
  {
   "cell_type": "code",
   "execution_count": 6,
   "metadata": {
    "collapsed": false
   },
   "outputs": [
    {
     "data": {
      "text/plain": [
       "21968"
      ]
     },
     "execution_count": 6,
     "metadata": {},
     "output_type": "execute_result"
    }
   ],
   "source": [
    "paragraphs.count()"
   ]
  },
  {
   "cell_type": "code",
   "execution_count": 7,
   "metadata": {
    "collapsed": false
   },
   "outputs": [
    {
     "data": {
      "text/plain": [
       "960"
      ]
     },
     "execution_count": 7,
     "metadata": {},
     "output_type": "execute_result"
    }
   ],
   "source": [
    "full_speeches.count()"
   ]
  },
  {
   "cell_type": "markdown",
   "metadata": {},
   "source": [
    "It is worth looking at our speech data on the speech level, and the paragraph within speech model. Speeches tend to cover a wide range of subjects, so when it comes to topic modeling, it may make more sense to model on individual paragraphs within speeches."
   ]
  },
  {
   "cell_type": "code",
   "execution_count": 8,
   "metadata": {
    "collapsed": false
   },
   "outputs": [],
   "source": [
    "par_list = []\n",
    "\n",
    "for par in paragraphs.find():\n",
    "    #pprint.pprint(speech)\n",
    "    if len(par['text']) > 140:\n",
    "        par['text'] = par['text'].replace('</p>',' ')\n",
    "        par_list.append(par)\n",
    "        \n",
    "\n",
    "#     speech_text.append(speech['text'].replace('<p>', '').\\\n",
    "#                        replace('(Applause.)',' ').replace('(applause)','').replace('inaudible','').split('<br>'))"
   ]
  },
  {
   "cell_type": "code",
   "execution_count": 9,
   "metadata": {
    "collapsed": false
   },
   "outputs": [],
   "source": [
    "df_pars = pd.DataFrame(par_list)"
   ]
  },
  {
   "cell_type": "code",
   "execution_count": 10,
   "metadata": {
    "collapsed": true
   },
   "outputs": [],
   "source": [
    "fullspeech_list = []\n",
    "\n",
    "for fullspeech in full_speeches.find():\n",
    "    if len(fullspeech['text']) > 500:\n",
    "        fullspeech['text'] = fullspeech['text'].replace('\\n',' ')\n",
    "        fullspeech_list.append(fullspeech)"
   ]
  },
  {
   "cell_type": "code",
   "execution_count": 11,
   "metadata": {
    "collapsed": false
   },
   "outputs": [],
   "source": [
    "df_full_speeches = pd.DataFrame(fullspeech_list)"
   ]
  },
  {
   "cell_type": "code",
   "execution_count": 12,
   "metadata": {
    "collapsed": false
   },
   "outputs": [],
   "source": [
    "def num_freqs(ser):\n",
    "    arr1 = ser.tolist()\n",
    "    m = max([arr1.count(a) for a in arr1])\n",
    "    return m/len(arr1)   "
   ]
  },
  {
   "cell_type": "code",
   "execution_count": 13,
   "metadata": {
    "collapsed": true
   },
   "outputs": [],
   "source": [
    "def num_freqs_tup(ser):\n",
    "    arr1 = ser.tolist()\n",
    "    m = max([arr1.count(a) for a in arr1])\n",
    "    return (m,len(arr1))"
   ]
  },
  {
   "cell_type": "code",
   "execution_count": 14,
   "metadata": {
    "collapsed": true
   },
   "outputs": [],
   "source": [
    "def series_to_list(ser):\n",
    "    return list(ser.tolist())"
   ]
  },
  {
   "cell_type": "markdown",
   "metadata": {},
   "source": [
    "# NMF"
   ]
  },
  {
   "cell_type": "markdown",
   "metadata": {},
   "source": [
    "The idea here is to do a grid search on varying levels of maximum document frequency (max_df) and number of topics (n_comps). The lower max_df is, the fewer words are included in the data.\n",
    "\n",
    "I want to find a combination of n_comps and max_df that gives each president his own signature topic. I need some way to quantify how well the algorithm has done in this regard, so I created a metric. I call the metric Favorite Topic Frequency (FTF). The formula for FTF is FTF = t/s, where t is the total count of speeches by that president that fall under that presidents most frequent topic, and s is the total number of speeches given by that topic."
   ]
  },
  {
   "cell_type": "code",
   "execution_count": 15,
   "metadata": {
    "collapsed": false
   },
   "outputs": [],
   "source": [
    "# #code below commented out because it takes forever to load. Pickles are here instead/\n",
    "\n",
    "# import pickle\n",
    "\n",
    "# with open('par_data.pkl', 'wb') as picklefile:\n",
    "#     pickle.dump(speech_stats, picklefile)\n",
    "\n",
    "# with open('speech_data.pkl', 'wb') as picklefile:\n",
    "#     pickle.dump(full_speech_stats, picklefile)"
   ]
  },
  {
   "cell_type": "code",
   "execution_count": 16,
   "metadata": {
    "collapsed": false
   },
   "outputs": [],
   "source": [
    "with open(\"par_data.pkl\", 'rb') as picklefile: \n",
    "    speech_stats = pickle.load(picklefile)\n",
    "\n",
    "with open(\"speech_data.pkl\", 'rb') as picklefile: \n",
    "    full_speech_stats = pickle.load(picklefile)"
   ]
  },
  {
   "cell_type": "code",
   "execution_count": 17,
   "metadata": {
    "collapsed": false
   },
   "outputs": [],
   "source": [
    "# max_dfs = [.05, .10, .15, .20, .25, .30]\n",
    "# n_comps = [5,10,20,30,40]\n",
    "# speech_stats =[]\n",
    "\n",
    "# for freq in max_dfs:\n",
    "#     for n_comp in n_comps:\n",
    "#         tfidf_vectorizer = TfidfVectorizer(ngram_range=(1, 2),  \n",
    "#                         stop_words='english', token_pattern=\"\\\\b[a-z][a-z]+\\\\b\", max_df = freq)\n",
    "#         tfidf_vectorizer.fit(df_pars['text'])\n",
    "\n",
    "#         counts = tfidf_vectorizer.transform(df_pars['text'])\n",
    "#         id2word = dict((v, k) for k, v in tfidf_vectorizer.vocabulary_.items())\n",
    "#         model = NMF(n_components=n_comp, init='random', random_state=0)\n",
    "#         doc_topics = model.fit_transform(counts)\n",
    "\n",
    "#         doc_cluster = [list(r).index(max(r)) for r in doc_topics]\n",
    "#         df_pars['NMF_topic_num'] = doc_cluster\n",
    "\n",
    "#         tups = df_pars.groupby('president').agg({\n",
    "#             'NMF_topic_num': num_freqs_tup\n",
    "#             })['NMF_topic_num']\n",
    "#         metricthing = sum(list(zip(*tups))[0])/sum(list(zip(*tups))[1])\n",
    "        \n",
    "#         speech_stats.append((n_comp, freq, metricthing))"
   ]
  },
  {
   "cell_type": "code",
   "execution_count": 18,
   "metadata": {
    "collapsed": false
   },
   "outputs": [
    {
     "data": {
      "text/plain": [
       "<matplotlib.legend.Legend at 0x7fa8e7a6c828>"
      ]
     },
     "execution_count": 18,
     "metadata": {},
     "output_type": "execute_result"
    },
    {
     "data": {
      "image/png": "[encoded data removed]",
      "text/plain": [
       "<matplotlib.figure.Figure at 0x7fa8e78bf2b0>"
      ]
     },
     "metadata": {},
     "output_type": "display_data"
    }
   ],
   "source": [
    "nums_tens = [(num[1],num[2]) for num in speech_stats if num[0] ==10]\n",
    "nums_twenties = [(num[1],num[2]) for num in speech_stats if num[0] ==20]\n",
    "nums_thirties = [(num[1],num[2]) for num in speech_stats if num[0] ==30]\n",
    "nums_forties = [(num[1],num[2]) for num in speech_stats if num[0] ==40]\n",
    "\n",
    "plt.plot(list(zip(*nums_tens))[0],list(zip(*nums_tens))[1]);\n",
    "plt.plot(list(zip(*nums_twenties))[0],list(zip(*nums_twenties))[1]);\n",
    "plt.plot(list(zip(*nums_thirties))[0],list(zip(*nums_thirties))[1]);\n",
    "plt.plot(list(zip(*nums_forties))[0],list(zip(*nums_forties))[1]);\n",
    "plt.legend(['10 topics', '20 topics', '30 topics', '40 topics'], loc='upper left')\n"
   ]
  },
  {
   "cell_type": "code",
   "execution_count": 19,
   "metadata": {
    "collapsed": false
   },
   "outputs": [],
   "source": [
    "# fullspeech_list = []\n",
    "\n",
    "# for fullspeech in full_speeches.find():\n",
    "#     if len(fullspeech['text']) > 500:\n",
    "#         fullspeech['text'] = fullspeech['text'].replace('\\n',' ')\n",
    "#         fullspeech_list.append(fullspeech)"
   ]
  },
  {
   "cell_type": "code",
   "execution_count": 20,
   "metadata": {
    "collapsed": false
   },
   "outputs": [],
   "source": [
    "# df_full_speeches = pd.DataFrame(fullspeech_list)"
   ]
  },
  {
   "cell_type": "code",
   "execution_count": 21,
   "metadata": {
    "collapsed": false
   },
   "outputs": [],
   "source": [
    "# max_dfs = [.05, .10, .15, .20, .25, .30]\n",
    "# n_comps = [10,20,30,40]\n",
    "# full_speech_stats = []\n",
    "\n",
    "# for freq in max_dfs:\n",
    "#     for n_comp in n_comps:\n",
    "#         tfidf_vectorizer = TfidfVectorizer(ngram_range=(1, 2),  \n",
    "#                         stop_words='english', token_pattern=\"\\\\b[a-z][a-z]+\\\\b\", max_df = freq)\n",
    "#         tfidf_vectorizer.fit(df_full_speeches['text'])\n",
    "\n",
    "#         counts = tfidf_vectorizer.transform(df_full_speeches['text'])\n",
    "#         id2word = dict((v, k) for k, v in tfidf_vectorizer.vocabulary_.items())\n",
    "#         model = NMF(n_components=n_comp, init='random', random_state=0)\n",
    "#         doc_topics = model.fit_transform(counts)\n",
    "\n",
    "#         doc_cluster = [list(r).index(max(r)) for r in doc_topics]\n",
    "#         df_full_speeches['NMF_topic_num'] = doc_cluster\n",
    "\n",
    "#         tups = df_full_speeches.groupby('president').agg({\n",
    "#             'NMF_topic_num': num_freqs_tup\n",
    "#             })['NMF_topic_num']\n",
    "#         metricthing = sum(list(zip(*tups))[0])/sum(list(zip(*tups))[1])\n",
    "\n",
    "#         full_speech_stats.append((n_comp,freq,metricthing))"
   ]
  },
  {
   "cell_type": "code",
   "execution_count": 22,
   "metadata": {
    "collapsed": false
   },
   "outputs": [
    {
     "data": {
      "text/plain": [
       "<matplotlib.legend.Legend at 0x7fa8e7c77dd8>"
      ]
     },
     "execution_count": 22,
     "metadata": {},
     "output_type": "execute_result"
    },
    {
     "data": {
      "image/png": "[encoded data removed]",
      "text/plain": [
       "<matplotlib.figure.Figure at 0x7fa8e7ba6cc0>"
      ]
     },
     "metadata": {},
     "output_type": "display_data"
    }
   ],
   "source": [
    "nums_tens = [(num[1],num[2]) for num in full_speech_stats if num[0] ==10]\n",
    "nums_twenties = [(num[1],num[2]) for num in full_speech_stats if num[0] ==20]\n",
    "nums_thirties = [(num[1],num[2]) for num in full_speech_stats if num[0] ==30]\n",
    "nums_forties = [(num[1],num[2]) for num in full_speech_stats if num[0] ==40]\n",
    "\n",
    "plt.plot(list(zip(*nums_tens))[0],list(zip(*nums_tens))[1]);\n",
    "plt.plot(list(zip(*nums_twenties))[0],list(zip(*nums_twenties))[1]);\n",
    "plt.plot(list(zip(*nums_thirties))[0],list(zip(*nums_thirties))[1]);\n",
    "plt.plot(list(zip(*nums_forties))[0],list(zip(*nums_forties))[1]);\n",
    "plt.legend(['10 topics', '20 topics', '30 topics', '40 topics'], loc='upper left')\n"
   ]
  },
  {
   "cell_type": "code",
   "execution_count": 23,
   "metadata": {
    "collapsed": true
   },
   "outputs": [],
   "source": [
    "def mode(arr):\n",
    "    arr = [num for num in arr if num !=-1]\n",
    "    m = max([arr.count(a) for a in arr])\n",
    "    return [x for x in arr if arr.count(x) == m][0] if m>0 else None"
   ]
  },
  {
   "cell_type": "code",
   "execution_count": 24,
   "metadata": {
    "collapsed": true
   },
   "outputs": [],
   "source": [
    "def average_tuples(ser):\n",
    "    mylist = ser.tolist()\n",
    "    return [np.mean(tup) for tup in list(zip(*mylist))]"
   ]
  },
  {
   "cell_type": "code",
   "execution_count": 25,
   "metadata": {
    "collapsed": false
   },
   "outputs": [],
   "source": [
    "def my_count(arr, thing_to_count):\n",
    "    return arr.count(thing_to_count)/len([num for num in arr if num !=-1])"
   ]
  },
  {
   "cell_type": "code",
   "execution_count": null,
   "metadata": {
    "collapsed": true
   },
   "outputs": [],
   "source": []
  },
  {
   "cell_type": "code",
   "execution_count": 30,
   "metadata": {
    "collapsed": false
   },
   "outputs": [],
   "source": [
    "n_comp = 20\n",
    "freq_full = .25\n",
    "\n",
    "tfidf_vectorizer_full = TfidfVectorizer(ngram_range=(1, 2),  \n",
    "                        stop_words='english', token_pattern=\"\\\\b[a-z][a-z]+\\\\b\", max_df = freq_full)\n",
    "tfidf_vectorizer_full.fit(df_pars['text'])\n",
    "\n",
    "counts_full = tfidf_vectorizer_full.transform(df_full_speeches['text'])\n",
    "counts_par = tfidf_vectorizer_full.transform(df_pars['text'])"
   ]
  },
  {
   "cell_type": "code",
   "execution_count": 31,
   "metadata": {
    "collapsed": false
   },
   "outputs": [],
   "source": [
    "id2word_full = dict((v, k) for k, v in tfidf_vectorizer_full.vocabulary_.items())\n",
    "\n",
    "model = NMF(n_components=n_comp, init='random', random_state=0)\n",
    "model.fit(counts_full)\n",
    "full_topics = model.transform(counts_full)\n",
    "\n",
    "par_topics = model.transform(counts_par)"
   ]
  },
  {
   "cell_type": "markdown",
   "metadata": {},
   "source": []
  },
  {
   "cell_type": "code",
   "execution_count": 32,
   "metadata": {
    "collapsed": false
   },
   "outputs": [],
   "source": [
    "full_cluster = [list(r).index(max(r)) if max(list(r)) > .005 else -1 for r in full_topics]\n",
    "par_cluster = [list(r).index(max(r)) if max(list(r)) > .002 else -1 for r in par_topics]"
   ]
  },
  {
   "cell_type": "code",
   "execution_count": 33,
   "metadata": {
    "collapsed": false
   },
   "outputs": [
    {
     "data": {
      "text/plain": [
       "5"
      ]
     },
     "execution_count": 33,
     "metadata": {},
     "output_type": "execute_result"
    }
   ],
   "source": [
    "full_cluster.count(-1)"
   ]
  },
  {
   "cell_type": "code",
   "execution_count": 34,
   "metadata": {
    "collapsed": false
   },
   "outputs": [
    {
     "data": {
      "text/plain": [
       "0.0184569451041596"
      ]
     },
     "execution_count": 34,
     "metadata": {},
     "output_type": "execute_result"
    }
   ],
   "source": [
    "par_cluster.count(-1)/len(par_cluster)"
   ]
  },
  {
   "cell_type": "code",
   "execution_count": 35,
   "metadata": {
    "collapsed": true
   },
   "outputs": [],
   "source": [
    "df_full_speeches['NMF_topic_num'] = full_cluster\n",
    "df_full_speeches['NMF_topic_amts'] = [tuple(doc) for doc in full_topics]"
   ]
  },
  {
   "cell_type": "code",
   "execution_count": 36,
   "metadata": {
    "collapsed": true
   },
   "outputs": [],
   "source": [
    "df_pars['NMF_topic_num'] = par_cluster"
   ]
  },
  {
   "cell_type": "code",
   "execution_count": 37,
   "metadata": {
    "collapsed": false
   },
   "outputs": [],
   "source": [
    "df_pars['NMF_topic_amts'] = [tuple(doc) for doc in par_topics]\n",
    "\n",
    "\n",
    "# okeything = df_full_speeches.groupby('president').agg({\n",
    "#     'NMF_topic_num': num_freqs_tup,\n",
    "#     'NMF_topic_amts' : average_tuples\n",
    "#     })['NMF_topic_num']\n",
    "\n",
    "tups = df_pars.groupby('president').agg({\n",
    "    'NMF_topic_num': num_freqs_tup\n",
    "    })['NMF_topic_num']\n",
    "metricthing = sum(list(zip(*tups))[0])/sum(list(zip(*tups))[1])\n",
    "\n",
    "okeydoke = df_full_speeches.groupby('president', as_index = False).agg({\n",
    "    'NMF_topic_num': series_to_list,\n",
    "    'NMF_topic_amts' : average_tuples\n",
    "    })"
   ]
  },
  {
   "cell_type": "code",
   "execution_count": null,
   "metadata": {
    "collapsed": false
   },
   "outputs": [],
   "source": [
    "topic_words = []\n",
    "for r in model.components_:\n",
    "    a = sorted([(v,i) for i,v in enumerate(r)],reverse=True)[0:7]\n",
    "    topic_words.append([id2word_full[e[1]] for e in a])"
   ]
  },
  {
   "cell_type": "code",
   "execution_count": null,
   "metadata": {
    "collapsed": false
   },
   "outputs": [],
   "source": [
    "df_pars['date_obj'] = df_pars['date'].apply(parse)"
   ]
  },
  {
   "cell_type": "code",
   "execution_count": null,
   "metadata": {
    "collapsed": false
   },
   "outputs": [],
   "source": [
    "for i in range(n_comp):\n",
    "    okeydoke['topic_' + str(i)] = okeydoke['NMF_topic_num'].apply(lambda x: my_count(x,i))\n",
    "    #okeydoke['topic_amt_' + str(i)] = okeydoke['NMF_topic_amts'].apply(lambda x: x[i]/sum(x))"
   ]
  },
  {
   "cell_type": "code",
   "execution_count": null,
   "metadata": {
    "collapsed": true
   },
   "outputs": [],
   "source": [
    "okeydoke['kmeans'] = KMeans(n_clusters = 7).fit_predict(okeydoke.iloc[:,3:23].as_matrix())"
   ]
  },
  {
   "cell_type": "code",
   "execution_count": null,
   "metadata": {
    "collapsed": false
   },
   "outputs": [],
   "source": [
    "okeydoke['kmeans'].value_counts()"
   ]
  },
  {
   "cell_type": "code",
   "execution_count": null,
   "metadata": {
    "collapsed": false
   },
   "outputs": [],
   "source": [
    "okeydoke[okeydoke['kmeans']==4]['president']"
   ]
  },
  {
   "cell_type": "code",
   "execution_count": null,
   "metadata": {
    "collapsed": false
   },
   "outputs": [],
   "source": [
    "most_freq_topics[15]"
   ]
  },
  {
   "cell_type": "markdown",
   "metadata": {},
   "source": [
    "This is the crux of the whole project. A function that takes in a president, outputs that presidents signature topic, a paragraph of text summarizing his speeches on that topic, and some similar presidents ( based on distance and clustering)"
   ]
  },
  {
   "cell_type": "code",
   "execution_count": null,
   "metadata": {
    "collapsed": false
   },
   "outputs": [],
   "source": [
    "given_president = 'George W. Bush'\n",
    "pres_row = okeydoke[okeydoke['president'] == given_president].iloc[0]\n",
    "kmeans_cluster_num = int(pres_row['kmeans'])\n",
    "\n",
    "closest_presidents = okeydoke[(okeydoke['kmeans'] == kmeans_cluster_num) & (okeydoke['president'] != given_president)]\n",
    "if closest_presidents.shape[0] > 5:\n",
    "    closest_presidents['distancesfromgiven'] = closest_presidents.apply(lambda row :norm(np.array(list(row)[3:23]) - np.array(list(pres_row)[3:23])), axis = 1)\n",
    "    closest_presidents = closest_presidents.sort_values(by = 'distancesfromgiven', ascending = True).iloc[1:4,:]\n",
    "\n",
    "most_freq_topics = list(pres_row['NMF_topic_num'])\n",
    "most_freq_topic = mode(most_freq_topics)\n",
    "print(topic_words[most_freq_topic])\n",
    "print(list(closest_presidents['president']))\n",
    "big_text_thing = ' '.join(list(df_pars[(df_pars['NMF_topic_num'] == most_freq_topic) & (df_pars['president'] == given_president)]['text'])) #& (df_speeches['president'] == 'Barack Obama')]['text']))"
   ]
  },
  {
   "cell_type": "code",
   "execution_count": null,
   "metadata": {
    "collapsed": false
   },
   "outputs": [],
   "source": [
    "summarize(big_text_thing, split = True)[:3]"
   ]
  },
  {
   "cell_type": "code",
   "execution_count": null,
   "metadata": {
    "collapsed": false
   },
   "outputs": [],
   "source": [
    "most_freq_topics = list(pres_row['NMF_topic_num'])\n"
   ]
  },
  {
   "cell_type": "code",
   "execution_count": null,
   "metadata": {
    "collapsed": false
   },
   "outputs": [],
   "source": [
    "topic_words[2]"
   ]
  },
  {
   "cell_type": "code",
   "execution_count": null,
   "metadata": {
    "collapsed": false
   },
   "outputs": [],
   "source": []
  },
  {
   "cell_type": "code",
   "execution_count": null,
   "metadata": {
    "collapsed": true
   },
   "outputs": [],
   "source": [
    "from sumy.parsers.html import HtmlParser\n",
    "from sumy.parsers.plaintext import PlaintextParser\n",
    "from sumy.nlp.tokenizers import Tokenizer\n",
    "from sumy.summarizers.lsa import LsaSummarizer as Summarizer\n",
    "from sumy.nlp.stemmers import Stemmer\n",
    "from sumy.utils import get_stop_words"
   ]
  },
  {
   "cell_type": "code",
   "execution_count": null,
   "metadata": {
    "collapsed": false
   },
   "outputs": [],
   "source": [
    "LANGUAGE = \"english\"\n",
    "SENTENCES_COUNT = 10\n",
    "parser = PlaintextParser.from_string(big_text_thing, Tokenizer(LANGUAGE))\n",
    "stemmer = Stemmer(LANGUAGE)\n",
    "\n",
    "summarizer = Summarizer(stemmer)\n",
    "summarizer.stop_words = get_stop_words(LANGUAGE)\n",
    "\n",
    "for sentence in summarizer(parser.document, SENTENCES_COUNT):\n",
    "    print(sentence)"
   ]
  },
  {
   "cell_type": "code",
   "execution_count": null,
   "metadata": {
    "collapsed": false
   },
   "outputs": [],
   "source": [
    "Summar = Summarizer(big_text_thing)"
   ]
  },
  {
   "cell_type": "code",
   "execution_count": null,
   "metadata": {
    "collapsed": false
   },
   "outputs": [],
   "source": [
    "thing= summarize(big_text_thing, split = True)"
   ]
  },
  {
   "cell_type": "code",
   "execution_count": null,
   "metadata": {
    "collapsed": false
   },
   "outputs": [],
   "source": [
    "thing[1]"
   ]
  },
  {
   "cell_type": "code",
   "execution_count": null,
   "metadata": {
    "collapsed": false
   },
   "outputs": [],
   "source": []
  },
  {
   "cell_type": "code",
   "execution_count": null,
   "metadata": {
    "collapsed": false,
    "scrolled": true
   },
   "outputs": [],
   "source": [
    "topic_words[1]"
   ]
  },
  {
   "cell_type": "code",
   "execution_count": null,
   "metadata": {
    "collapsed": false
   },
   "outputs": [],
   "source": [
    "okeydoke[okeydoke['kmeans'] == 0]\n",
    "\n",
    "# metricthing = sum(list(zip(*tups))[0])/sum(list(zip(*tups))[1])"
   ]
  },
  {
   "cell_type": "code",
   "execution_count": null,
   "metadata": {
    "collapsed": false
   },
   "outputs": [],
   "source": [
    "df_full_speeches[df_full_speeches['NMF_topic_num'] == 2]"
   ]
  },
  {
   "cell_type": "code",
   "execution_count": null,
   "metadata": {
    "collapsed": false
   },
   "outputs": [],
   "source": [
    "okeydoke"
   ]
  },
  {
   "cell_type": "code",
   "execution_count": null,
   "metadata": {
    "collapsed": false
   },
   "outputs": [],
   "source": [
    "okeydoke[okeydoke['KMeans'] == 2]"
   ]
  },
  {
   "cell_type": "code",
   "execution_count": null,
   "metadata": {
    "collapsed": false
   },
   "outputs": [],
   "source": [
    "\n",
    "    "
   ]
  },
  {
   "cell_type": "code",
   "execution_count": null,
   "metadata": {
    "collapsed": false
   },
   "outputs": [],
   "source": [
    "np.bincount(sum(most_freq_topics,[]))"
   ]
  },
  {
   "cell_type": "code",
   "execution_count": null,
   "metadata": {
    "collapsed": true
   },
   "outputs": [],
   "source": []
  },
  {
   "cell_type": "code",
   "execution_count": null,
   "metadata": {
    "collapsed": false
   },
   "outputs": [],
   "source": [
    "mode(sum(most_freq_topics,[]))"
   ]
  },
  {
   "cell_type": "code",
   "execution_count": null,
   "metadata": {
    "collapsed": false
   },
   "outputs": [],
   "source": [
    "same_cluster_presidents\n",
    "X = np.array(same_cluster_presidents.ix[4,2:22])\n",
    "list(pres_row)"
   ]
  },
  {
   "cell_type": "code",
   "execution_count": null,
   "metadata": {
    "collapsed": true
   },
   "outputs": [],
   "source": [
    "pres_row = okeydoke[okeydoke['president'] == given_president]\n"
   ]
  },
  {
   "cell_type": "code",
   "execution_count": null,
   "metadata": {
    "collapsed": false
   },
   "outputs": [],
   "source": [
    "list(pres_row.iloc[0])"
   ]
  },
  {
   "cell_type": "code",
   "execution_count": null,
   "metadata": {
    "collapsed": false
   },
   "outputs": [],
   "source": [
    "same_cluster_presidents.ix[:,2:22]"
   ]
  },
  {
   "cell_type": "code",
   "execution_count": null,
   "metadata": {
    "collapsed": false
   },
   "outputs": [],
   "source": []
  },
  {
   "cell_type": "code",
   "execution_count": null,
   "metadata": {
    "collapsed": false
   },
   "outputs": [],
   "source": [
    "find_three_closest(same_cluster_presidents)"
   ]
  },
  {
   "cell_type": "code",
   "execution_count": null,
   "metadata": {
    "collapsed": true
   },
   "outputs": [],
   "source": []
  },
  {
   "cell_type": "code",
   "execution_count": null,
   "metadata": {
    "collapsed": false
   },
   "outputs": [],
   "source": [
    "norm([1,1])"
   ]
  },
  {
   "cell_type": "code",
   "execution_count": null,
   "metadata": {
    "collapsed": false
   },
   "outputs": [],
   "source": [
    "\n",
    "nums = [(10, 0.05, 0.723404255319149),\n",
    " (20, 0.05, 0.598404255319149),\n",
    " (30, 0.05, 0.5159574468085106),\n",
    " (40, 0.05, 0.4521276595744681),\n",
    " (10, 0.1, 0.6542553191489362),\n",
    " (20, 0.1, 0.5851063829787234),\n",
    " (30, 0.1, 0.5132978723404256),\n",
    " (40, 0.1, 0.4601063829787234),\n",
    " (10, 0.15, 0.6675531914893617),\n",
    " (20, 0.15, 0.5053191489361702),\n",
    " (30, 0.15, 0.47074468085106386),\n",
    " (40, 0.15, 0.42819148936170215),\n",
    " (10, 0.2, 0.6117021276595744),\n",
    " (20, 0.2, 0.5531914893617021),\n",
    " (30, 0.2, 0.4627659574468085),\n",
    " (40, 0.2, 0.40425531914893614),\n",
    " (10, 0.25, 0.6223404255319149),\n",
    " (20, 0.25, 0.5425531914893617),\n",
    " (30, 0.25, 0.48404255319148937),\n",
    " (40, 0.25, 0.4228723404255319),\n",
    " (10, 0.3, 0.6595744680851063),\n",
    " (20, 0.3, 0.5159574468085106),\n",
    " (30, 0.3, 0.4601063829787234),\n",
    " (40, 0.3, 0.39361702127659576)]"
   ]
  },
  {
   "cell_type": "code",
   "execution_count": null,
   "metadata": {
    "collapsed": true
   },
   "outputs": [],
   "source": [
    "nums_tens = [(num[1],num[2]) for num in nums if num[0] ==10]\n",
    "nums_twenties = [(num[1],num[2]) for num in nums if num[0] ==20]\n",
    "nums_thirties = [(num[1],num[2]) for num in nums if num[0] ==30]\n",
    "nums_forties = [(num[1],num[2]) for num in nums if num[0] ==40]\n",
    "\n",
    "plt.plot(list(zip(*nums_tens))[0],list(zip(*nums_tens))[1]);\n",
    "plt.plot(list(zip(*nums_twenties))[0],list(zip(*nums_twenties))[1]);\n",
    "plt.plot(list(zip(*nums_thirties))[0],list(zip(*nums_thirties))[1]);\n",
    "plt.plot(list(zip(*nums_forties))[0],list(zip(*nums_forties))[1]);\n",
    "plt.legend(['10 topics', '20 topics', '30 topics', '40 topics'], loc='upper left')\n"
   ]
  },
  {
   "cell_type": "code",
   "execution_count": null,
   "metadata": {
    "collapsed": true
   },
   "outputs": [],
   "source": []
  }
 ],
 "metadata": {
  "anaconda-cloud": {},
  "kernelspec": {
   "display_name": "Python [default]",
   "language": "python",
   "name": "python3"
  },
  "language_info": {
   "codemirror_mode": {
    "name": "ipython",
    "version": 3
   },
   "file_extension": ".py",
   "mimetype": "text/x-python",
   "name": "python",
   "nbconvert_exporter": "python",
   "pygments_lexer": "ipython3",
   "version": "3.5.2"
  }
 },
 "nbformat": 4,
 "nbformat_minor": 1
}
